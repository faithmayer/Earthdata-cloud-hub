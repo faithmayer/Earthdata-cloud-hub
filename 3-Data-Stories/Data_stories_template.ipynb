{
 "cells": [
  {
   "cell_type": "markdown",
   "id": "74ac889e-99ed-41de-9ec7-dffe81d78ac7",
   "metadata": {},
   "source": [
    "# Title\n",
    "## Overview\n",
    "\n",
    "Add Summary of data story/background information needed. 2-5 sentences. \n",
    "\n",
    "## Learning Objectives\n",
    "- enter objective \n",
    "- enter objective \n",
    "- ...\n",
    "\n",
    "## Requirements\n",
    "### 1. Compute environment - This notebook can **only** be run in an **AWS Cloud instance running in the `us-west-2` region**.\n",
    "### 2. Earthdata Login\n",
    "An Earthdata Login account is required to access data, as well as discover restricted data, from the NASA Earthdata system. Thus, to access NASA data, you need Earthdata Login. Please visit https://urs.earthdata.nasa.gov to register and manage your Earthdata Login account. This account is free to create and only takes a moment to set up.\n",
    "### 3. Additional Requirements\n",
    "...\n",
    "\n",
    "### Install Packages"
   ]
  },
  {
   "cell_type": "code",
   "execution_count": null,
   "id": "811a21bc-cf2f-47d0-8050-992cc2aca10a",
   "metadata": {},
   "outputs": [],
   "source": [
    "import earthaccess\n",
    "import xarray as xr"
   ]
  },
  {
   "cell_type": "markdown",
   "id": "65d18415-e44d-4622-a86d-3cb9f3cfd862",
   "metadata": {},
   "source": [
    "We recommend authenticating your Earthdata Login (EDL) information using the `earthaccess` python package as follows:"
   ]
  },
  {
   "cell_type": "code",
   "execution_count": null,
   "id": "bf22b7ed-b1d7-4dc3-8041-984146226387",
   "metadata": {},
   "outputs": [],
   "source": [
    "auth = earthaccess.login(strategy=\"netrc\") # works if the EDL login already been persisted to a netrc\n",
    "if not auth.authenticated:\n",
    "    # ask for EDL credentials and persist them in a .netrc file\n",
    "    auth = earthaccess.login(strategy=\"interactive\", persist=True)"
   ]
  }
 ],
 "metadata": {
  "kernelspec": {
   "display_name": "Python 3 (ipykernel)",
   "language": "python",
   "name": "python3"
  },
  "language_info": {
   "codemirror_mode": {
    "name": "ipython",
    "version": 3
   },
   "file_extension": ".py",
   "mimetype": "text/x-python",
   "name": "python",
   "nbconvert_exporter": "python",
   "pygments_lexer": "ipython3",
   "version": "3.9.16"
  }
 },
 "nbformat": 4,
 "nbformat_minor": 5
}
